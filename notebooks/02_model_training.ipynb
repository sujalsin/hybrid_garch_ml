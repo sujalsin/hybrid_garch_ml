{
 "cells": [
  {
   "cell_type": "markdown",
   "metadata": {},
   "source": [
    "# Model Training - Hybrid GARCH-ML Model\n",
    "\n",
    "This notebook demonstrates the training process for our hybrid volatility prediction model."
   ]
  },
  {
   "cell_type": "code",
   "execution_count": null,
   "metadata": {},
   "source": [
    "import sys\n",
    "sys.path.append('../src')\n",
    "\n",
    "from models.garch_model import GARCHModel\n",
    "from models.ml_model import MLModel\n",
    "from models.hybrid_model import HybridModel\n",
    "import yfinance as yf\n",
    "import pandas as pd\n",
    "import numpy as np"
   ]
  },
  {
   "cell_type": "markdown",
   "metadata": {},
   "source": [
    "## 1. Data Preparation"
   ]
  },
  {
   "cell_type": "code",
   "execution_count": null,
   "metadata": {},
   "source": [
    "# Download data\n",
    "ticker = \"AAPL\"\n",
    "data = yf.download(ticker, start=\"2020-01-01\")\n",
    "\n",
    "# Calculate returns\n",
    "returns = data['Adj Close'].pct_change().dropna()\n",
    "\n",
    "# Split data\n",
    "train_size = int(len(returns) * 0.8)\n",
    "train_data = returns[:train_size]\n",
    "test_data = returns[train_size:]"
   ]
  },
  {
   "cell_type": "markdown",
   "metadata": {},
   "source": [
    "## 2. Train Individual Models"
   ]
  },
  {
   "cell_type": "code",
   "execution_count": null,
   "metadata": {},
   "source": [
    "# Train GARCH model\n",
    "garch_model = GARCHModel()\n",
    "garch_model.fit(train_data)\n",
    "\n",
    "# Train ML model\n",
    "ml_model = MLModel()\n",
    "ml_model.fit(train_data)"
   ]
  },
  {
   "cell_type": "markdown",
   "metadata": {},
   "source": [
    "## 3. Train Hybrid Model"
   ]
  },
  {
   "cell_type": "code",
   "execution_count": null,
   "metadata": {},
   "source": [
    "# Initialize and train hybrid model\n",
    "hybrid_model = HybridModel(garch_model, ml_model)\n",
    "hybrid_model.fit(train_data)"
   ]
  },
  {
   "cell_type": "markdown",
   "metadata": {},
   "source": [
    "## 4. Model Evaluation"
   ]
  },
  {
   "cell_type": "code",
   "execution_count": null,
   "metadata": {},
   "source": [
    "# Make predictions\n",
    "garch_pred = garch_model.predict(test_data)\n",
    "ml_pred = ml_model.predict(test_data)\n",
    "hybrid_pred = hybrid_model.predict(test_data)\n",
    "\n",
    "# Calculate metrics\n",
    "from sklearn.metrics import mean_squared_error, mean_absolute_error\n",
    "\n",
    "def calculate_metrics(y_true, y_pred):\n",
    "    mse = mean_squared_error(y_true, y_pred)\n",
    "    mae = mean_absolute_error(y_true, y_pred)\n",
    "    return {'MSE': mse, 'MAE': mae}\n",
    "\n",
    "# Print results\n",
    "print(\"GARCH Metrics:\", calculate_metrics(test_data, garch_pred))\n",
    "print(\"ML Metrics:\", calculate_metrics(test_data, ml_pred))\n",
    "print(\"Hybrid Metrics:\", calculate_metrics(test_data, hybrid_pred))"
   ]
  }
 ],
 "metadata": {
  "kernelspec": {
   "display_name": "Python 3",
   "language": "python",
   "name": "python3"
  },
  "language_info": {
   "codemirror_mode": {
    "name": "ipython",
    "version": 3
   },
   "file_extension": ".py",
   "mimetype": "text/x-python",
   "name": "python",
   "nbconvert_exporter": "python",
   "pygments_lexer": "ipython3",
   "version": "3.8.0"
  }
 },
 "nbformat": 4,
 "nbformat_minor": 4
}
