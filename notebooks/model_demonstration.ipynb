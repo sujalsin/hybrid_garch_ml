{
 "cells": [
  {
   "cell_type": "markdown",
   "metadata": {},
   "source": [
    "# Hybrid GARCH-Machine Learning Model for Stock Volatility Prediction\n",
    "\n",
    "This notebook demonstrates the usage of our hybrid model that combines GARCH and machine learning approaches for enhanced stock volatility prediction."
   ]
  },
  {
   "cell_type": "code",
   "execution_count": null,
   "metadata": {},
   "outputs": [],
   "source": [
    "import sys\n",
    "sys.path.append('..')\n",
    "\n",
    "import pandas as pd\n",
    "import numpy as np\n",
    "import matplotlib.pyplot as plt\n",
    "import seaborn as sns\n",
    "from datetime import datetime, timedelta\n",
    "\n",
    "from src.data.data_loader import StockDataLoader\n",
    "from src.models.hybrid_model import HybridModel\n",
    "\n",
    "%matplotlib inline\n",
    "plt.style.use('seaborn')"
   ]
  },
  {
   "cell_type": "markdown",
   "metadata": {},
   "source": [
    "## 1. Data Collection\n",
    "\n",
    "Let's start by collecting historical data for some major tech stocks."
   ]
  },
  {
   "cell_type": "code",
   "execution_count": null,
   "metadata": {},
   "outputs": [],
   "source": [
    "# Define stock symbols and date range\n",
    "symbols = ['AAPL', 'MSFT', 'GOOGL', 'AMZN', 'META']\n",
    "start_date = '2010-01-01'\n",
    "end_date = datetime.now().strftime('%Y-%m-%d')\n",
    "\n",
    "# Initialize data loader and fetch data\n",
    "loader = StockDataLoader(symbols=symbols, start_date=start_date, end_date=end_date)\n",
    "train_data, val_data = loader.get_clean_data()\n",
    "\n",
    "print(f\"Training data shape: {train_data.shape}\")\n",
    "print(f\"Validation data shape: {val_data.shape}\")"
   ]
  },
  {
   "cell_type": "markdown",
   "metadata": {},
   "source": [
    "## 2. Data Visualization\n",
    "\n",
    "Let's visualize the historical volatility patterns."
   ]
  },
  {
   "cell_type": "code",
   "execution_count": null,
   "metadata": {},
   "outputs": [],
   "source": [
    "plt.figure(figsize=(15, 8))\n",
    "for symbol in symbols:\n",
    "    symbol_data = train_data[train_data['Symbol'] == symbol]\n",
    "    plt.plot(symbol_data.index, symbol_data['RealizedVol'], label=symbol, alpha=0.7)\n",
    "    \n",
    "plt.title('Historical Realized Volatility')\n",
    "plt.xlabel('Date')\n",
    "plt.ylabel('Annualized Volatility')\n",
    "plt.legend()\n",
    "plt.grid(True)\n",
    "plt.show()"
   ]
  },
  {
   "cell_type": "markdown",
   "metadata": {},
   "source": [
    "## 3. Model Training\n",
    "\n",
    "Now let's train our hybrid model using both GARCH and machine learning components."
   ]
  },
  {
   "cell_type": "code",
   "execution_count": null,
   "metadata": {},
   "outputs": [],
   "source": [
    "# Initialize and train the hybrid model\n",
    "model = HybridModel(\n",
    "    ml_model_type='rf',  # Use Random Forest as the ML component\n",
    "    garch_p=1,\n",
    "    garch_q=1,\n",
    "    ensemble_method='weighted'  # Use weighted averaging for combining predictions\n",
    ")\n",
    "\n",
    "# Fit the model and get performance metrics\n",
    "metrics = model.fit(train_data)\n",
    "\n",
    "print(\"\\nModel Performance Metrics:\")\n",
    "for metric, value in metrics.items():\n",
    "    print(f\"{metric}: {value:.4f}\")"
   ]
  },
  {
   "cell_type": "markdown",
   "metadata": {},
   "source": [
    "## 4. Model Evaluation\n",
    "\n",
    "Let's evaluate our model's performance on the validation set."
   ]
  },
  {
   "cell_type": "code",
   "execution_count": null,
   "metadata": {},
   "outputs": [],
   "source": [
    "# Generate predictions for validation data\n",
    "val_predictions = model.predict(val_data)\n",
    "\n",
    "# Create a DataFrame with actual vs predicted values\n",
    "results = pd.DataFrame({\n",
    "    'Actual': val_data['RealizedVol'],\n",
    "    'Predicted': val_predictions\n",
    "})\n",
    "\n",
    "# Scatter plot of actual vs predicted values\n",
    "plt.figure(figsize=(10, 6))\n",
    "plt.scatter(results['Actual'], results['Predicted'], alpha=0.5)\n",
    "plt.plot([results['Actual'].min(), results['Actual'].max()],\n",
    "         [results['Actual'].min(), results['Actual'].max()],\n",
    "         'r--', lw=2)\n",
    "plt.xlabel('Actual Volatility')\n",
    "plt.ylabel('Predicted Volatility')\n",
    "plt.title('Actual vs Predicted Volatility')\n",
    "plt.grid(True)\n",
    "plt.show()\n",
    "\n",
    "# Calculate and display error metrics\n",
    "mse = np.mean((results['Actual'] - results['Predicted'])**2)\n",
    "rmse = np.sqrt(mse)\n",
    "mae = np.mean(np.abs(results['Actual'] - results['Predicted']))\n",
    "r2 = 1 - (np.sum((results['Actual'] - results['Predicted'])**2) /\n",
    "          np.sum((results['Actual'] - results['Actual'].mean())**2))\n",
    "\n",
    "print(f\"\\nValidation Set Metrics:\")\n",
    "print(f\"MSE: {mse:.6f}\")\n",
    "print(f\"RMSE: {rmse:.6f}\")\n",
    "print(f\"MAE: {mae:.6f}\")\n",
    "print(f\"R²: {r2:.6f}\")"
   ]
  },
  {
   "cell_type": "markdown",
   "metadata": {},
   "source": [
    "## 5. Feature Importance Analysis\n",
    "\n",
    "Let's analyze which features are most important for our predictions."
   ]
  },
  {
   "cell_type": "code",
   "execution_count": null,
   "metadata": {},
   "outputs": [],
   "source": [
    "if model.ml_model.model_type in ['rf', 'gb']:\n",
    "    # Get feature importance from the ML model\n",
    "    feature_importance = pd.DataFrame({\n",
    "        'Feature': model.ml_model.feature_columns,\n",
    "        'Importance': model.ml_model.model.feature_importances_\n",
    "    }).sort_values('Importance', ascending=False)\n",
    "    \n",
    "    # Plot feature importance\n",
    "    plt.figure(figsize=(12, 6))\n",
    "    sns.barplot(x='Importance', y='Feature', data=feature_importance.head(10))\n",
    "    plt.title('Top 10 Most Important Features')\n",
    "    plt.xlabel('Feature Importance')\n",
    "    plt.tight_layout()\n",
    "    plt.show()"
   ]
  },
  {
   "cell_type": "markdown",
   "metadata": {},
   "source": [
    "## 6. Save the Model\n",
    "\n",
    "Finally, let's save our trained model for future use."
   ]
  },
  {
   "cell_type": "code",
   "execution_count": null,
   "metadata": {},
   "outputs": [],
   "source": [
    "model_dir = '../models/saved_models/hybrid_model'\n",
    "model.save_model(model_dir)\n",
    "print(f\"Model saved to {model_dir}\")"
   ]
  }
 ],
 "metadata": {
  "kernelspec": {
   "display_name": "venv",
   "language": "python",
   "name": "python3"
  },
  "language_info": {
   "codemirror_mode": {
    "name": "ipython",
    "version": 3
   },
   "file_extension": ".py",
   "mimetype": "text/x-python",
   "name": "python",
   "nbconvert_exporter": "python",
   "pygments_lexer": "ipython3",
   "version": "3.8.3"
  }
 },
 "nbformat": 4,
 "nbformat_minor": 4
}
