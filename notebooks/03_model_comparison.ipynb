{
 "cells": [
  {
   "cell_type": "markdown",
   "metadata": {},
   "source": [
    "# Model Comparison and Analysis\n",
    "\n",
    "This notebook compares the performance of GARCH, ML, and Hybrid models across different market conditions."
   ]
  },
  {
   "cell_type": "code",
   "execution_count": null,
   "metadata": {},
   "source": [
    "import sys\n",
    "sys.path.append('../src')\n",
    "\n",
    "from models.garch_model import GARCHModel\n",
    "from models.ml_model import MLModel\n",
    "from models.hybrid_model import HybridModel\n",
    "import yfinance as yf\n",
    "import pandas as pd\n",
    "import numpy as np\n",
    "import matplotlib.pyplot as plt\n",
    "import seaborn as sns\n",
    "\n",
    "%matplotlib inline\n",
    "plt.style.use('seaborn')"
   ]
  },
  {
   "cell_type": "markdown",
   "metadata": {},
   "source": [
    "## 1. Performance During High Volatility Periods"
   ]
  },
  {
   "cell_type": "code",
   "execution_count": null,
   "metadata": {},
   "source": [
    "# Download data for March 2020 (COVID-19 crash)\n",
    "data = yf.download(\"^VIX\", start=\"2020-03-01\", end=\"2020-04-01\")\n",
    "\n",
    "plt.figure(figsize=(12, 6))\n",
    "data['Close'].plot()\n",
    "plt.title('VIX Index During March 2020')\n",
    "plt.show()"
   ]
  },
  {
   "cell_type": "markdown",
   "metadata": {},
   "source": [
    "## 2. Model Performance Comparison"
   ]
  },
  {
   "cell_type": "code",
   "execution_count": null,
   "metadata": {},
   "source": [
    "def plot_model_comparison(actual, garch_pred, ml_pred, hybrid_pred):\n",
    "    plt.figure(figsize=(15, 7))\n",
    "    plt.plot(actual.index, actual, label='Actual', alpha=0.7)\n",
    "    plt.plot(actual.index, garch_pred, label='GARCH', alpha=0.7)\n",
    "    plt.plot(actual.index, ml_pred, label='ML', alpha=0.7)\n",
    "    plt.plot(actual.index, hybrid_pred, label='Hybrid', alpha=0.7)\n",
    "    plt.title('Volatility Predictions Comparison')\n",
    "    plt.legend()\n",
    "    plt.show()\n",
    "\n",
    "# Load and prepare your data\n",
    "ticker = \"AAPL\"\n",
    "data = yf.download(ticker, start=\"2020-01-01\")\n",
    "returns = data['Adj Close'].pct_change().dropna()\n",
    "\n",
    "# Train models and make predictions\n",
    "# ... (training code here)\n",
    "\n",
    "# Plot comparison\n",
    "plot_model_comparison(actual_vol, garch_pred, ml_pred, hybrid_pred)"
   ]
  },
  {
   "cell_type": "markdown",
   "metadata": {},
   "source": [
    "## 3. Error Analysis"
   ]
  },
  {
   "cell_type": "code",
   "execution_count": null,
   "metadata": {},
   "source": [
    "def calculate_error_metrics(actual, predicted):\n",
    "    mse = mean_squared_error(actual, predicted)\n",
    "    mae = mean_absolute_error(actual, predicted)\n",
    "    rmse = np.sqrt(mse)\n",
    "    return pd.Series({'MSE': mse, 'MAE': mae, 'RMSE': rmse})\n",
    "\n",
    "# Calculate metrics for each model\n",
    "metrics = pd.DataFrame({\n",
    "    'GARCH': calculate_error_metrics(actual_vol, garch_pred),\n",
    "    'ML': calculate_error_metrics(actual_vol, ml_pred),\n",
    "    'Hybrid': calculate_error_metrics(actual_vol, hybrid_pred)\n",
    "})\n",
    "\n",
    "# Plot metrics comparison\n",
    "metrics.plot(kind='bar', figsize=(10, 6))\n",
    "plt.title('Error Metrics Comparison')\n",
    "plt.show()"
   ]
  }
 ],
 "metadata": {
  "kernelspec": {
   "display_name": "Python 3",
   "language": "python",
   "name": "python3"
  },
  "language_info": {
   "codemirror_mode": {
    "name": "ipython",
    "version": 3
   },
   "file_extension": ".py",
   "mimetype": "text/x-python",
   "name": "python",
   "nbconvert_exporter": "python",
   "pygments_lexer": "ipython3",
   "version": "3.8.0"
  }
 },
 "nbformat": 4,
 "nbformat_minor": 4
}
